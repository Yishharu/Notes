{
 "cells": [
  {
   "cell_type": "markdown",
   "metadata": {},
   "source": [
    "# Notes on viscoelasticity"
   ]
  },
  {
   "cell_type": "markdown",
   "metadata": {},
   "source": [
    "For elastisity, we have Hook's law, which suggest the material has perfect memory:\n",
    "$$ \n",
    "T_{ij}(x,t)=a_{ijkl}(x) e_{kl}(x,t) \\qquad where \\quad e_{ij}=\\frac{1}{2}(\\frac{\\partial u_i}{\\partial x_j}+\\frac{\\partial u_j}{\\partial x_i})\n",
    "$$\n",
    "notice the symmetry of elastic tensor, we have:\n",
    "$$\n",
    "a_{ijkl} = a_{klij} = a_{jikl} = a_{ijlk}\n",
    "$$\n",
    "$$\n",
    "a_{ijkl} = a_{klij} = a_{jikl} = a_{ijlk}\n",
    "$$\n",
    "$$\n",
    "a_{ijkl} = \\lambda \\delta_{ij}\\delta_{kl}+\\mu(\\delta_{ik}\\delta_{jl}+\\delta_{ij}\\delta_{kl})\n",
    "$$\n"
   ]
  },
  {
   "cell_type": "markdown",
   "metadata": {},
   "source": [
    "For viscolasity, we have:\n",
    "$$\n",
    "T_{ij}(x,t) = \\int_{-\\infty}^{t} b_{ijkl}(x,t-t') \\dot{e}_{kl}(x,t')dt'\n",
    "$$"
   ]
  },
  {
   "cell_type": "markdown",
   "metadata": {},
   "source": [
    "This is an extension of Elasticity: \n",
    "$$ \n",
    "b(x,t) = a(x) H(t) \\rightarrow Hook's Law \n",
    "$$\n",
    "$$\n",
    "b(x,t) = a(x) \\delta(t) \\rightarrow Newtonian fluid, no memory at all\n",
    "$$"
   ]
  },
  {
   "cell_type": "code",
   "execution_count": null,
   "metadata": {},
   "outputs": [],
   "source": []
  },
  {
   "cell_type": "code",
   "execution_count": null,
   "metadata": {},
   "outputs": [],
   "source": []
  }
 ],
 "metadata": {
  "kernelspec": {
   "display_name": "Python 3",
   "language": "python",
   "name": "python3"
  },
  "language_info": {
   "codemirror_mode": {
    "name": "ipython",
    "version": 3
   },
   "file_extension": ".py",
   "mimetype": "text/x-python",
   "name": "python",
   "nbconvert_exporter": "python",
   "pygments_lexer": "ipython3",
   "version": "3.6.5"
  }
 },
 "nbformat": 4,
 "nbformat_minor": 2
}
